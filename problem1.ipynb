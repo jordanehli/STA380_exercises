{
 "cells": [
  {
   "cell_type": "markdown",
   "metadata": {},
   "source": [
    "# Problem 1: Probability Practice\n",
    "\n",
    "### Part A\n",
    "\n",
    "Visitors to your website are asked to answer a single survey question before they get access to the content on the page. Among all of the users, there are two categories: Random Clicker (RC), and Truthful Clicker (TC). There are two possible answers to the survey: yes and no. Random clickers would click either one with equal probability. You are also giving the information that the expected fraction of random clickers is 0.3. After a trial period, you get the following survey results: 65% said Yes and 35% said No. What fraction of people who are truthful clickers answered yes? Hint: use the rule of total probability."
   ]
  },
  {
   "cell_type": "markdown",
   "metadata": {},
   "source": [
    "We want to calculate the probability for truthful clickers that answered yes\n",
    "\n",
    "We have the information for random clicker so we can calculate the P for TC\n",
    "$$\n",
    "P(TC) = 1 - P(RC) = 1 - 0.3 = 0.7\n",
    "$$\n",
    "\n",
    "Then we calculate the total probability of Yes\n",
    "\n",
    "$$ P(Yes) =  (Yes|RC)*P(RC) + P(Yes|TC)*P(TC) $$\n",
    "\n",
    "$$\n",
    "P(Yes) = 0.5*P(RC) + P(Yes|TC)*P(TC) = 0.65\\\n",
    "$$\n",
    "\n",
    "\n",
    "Now we solve for P(Yes|TC)\n",
    "$$\n",
    "0.65 = 0.5*0.3 + P(Yes|TC)*0.7\n",
    "$$\n",
    "$$\n",
    "P(Yes|TC) = \\frac{0.65 - 0.15}{0.7} \\\n",
    "$$\n",
    "$$\n",
    "P(Yes|TC) = 0.714\n",
    "$$\n"
   ]
  }
 ],
 "metadata": {
  "language_info": {
   "name": "python"
  },
  "orig_nbformat": 4
 },
 "nbformat": 4,
 "nbformat_minor": 2
}
