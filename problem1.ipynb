{
 "cells": [
  {
   "cell_type": "markdown",
   "metadata": {},
   "source": [
    "# Problem 1: Probability Practice\n",
    "\n",
    "### Part A\n",
    "\n",
    "Visitors to your website are asked to answer a single survey question before they get access to the content on the page. Among all of the users, there are two categories: Random Clicker (RC), and Truthful Clicker (TC). There are two possible answers to the survey: yes and no. Random clickers would click either one with equal probability. You are also giving the information that the expected fraction of random clickers is 0.3. After a trial period, you get the following survey results: 65% said Yes and 35% said No. What fraction of people who are truthful clickers answered yes? Hint: use the rule of total probability."
   ]
  },
  {
   "cell_type": "markdown",
   "metadata": {},
   "source": [
    "We want to calculate the probability for truthful clickers that answered yes\n",
    "\n",
    "We have the information for random clicker so we can calculate the P for TC\n",
    "$$\n",
    "P(TC) = 1 - P(RC) = 1 - 0.3 = 0.7\n",
    "$$\n",
    "\n",
    "Then we calculate the total probability of Yes\n",
    "\n",
    "$$ P(Yes) =  (Yes|RC)*P(RC) + P(Yes|TC)*P(TC) $$\n",
    "\n",
    "$$\n",
    "0.65 = 0.5*0.3 + P(Yes|TC)*0.7\n",
    "$$\n",
    "\n",
    "$$\n",
    "0.65 = 0.15 + P(Yes|TC)*0.7\n",
    "$$\n",
    "\n",
    "Now we solve for P(Yes|TC)\n",
    "$$\n",
    "P(Yes|TC) = \\frac{0.65 - 0.15}{0.7} \\\n",
    "$$\n",
    "$$\n",
    "P(Yes|TC) = 0.714\n",
    "$$\n"
   ]
  },
  {
   "cell_type": "markdown",
   "metadata": {},
   "source": [
    "### Part B\n",
    "\n",
    "Imagine a medical test for a disease with the following two attributes:\n",
    "\n",
    "The sensitivity is about 0.993. That is, if someone has the disease, there is a probability of 0.993 that they will test positive.\n",
    "The specificity is about 0.9999. This means that if someone doesn't have the disease, there is probability of 0.9999 that they will test negative.\n",
    "In the general population, incidence of the disease is reasonably rare: about 0.0025% of all people have it (or 0.000025 as a decimal probability).\n",
    "Suppose someone tests positive. What is the probability that they have the disease?"
   ]
  },
  {
   "cell_type": "markdown",
   "metadata": {},
   "source": [
    "$P(+|Dis) = 0.993$\\\n",
    "$P(- | Not Dis) = 0.9999$\\\n",
    "$P(Dis) = 0.000025$\n",
    "\n",
    "Using Bayes Rule\n",
    "\n",
    "$P(Dis) =$ probability of disease\n",
    "\n",
    "$P(+| Dis) =$ probability of positive given disease (what we already know)\n",
    "\n",
    "$P(+) =$ total probability of positive\n",
    "\n",
    "$P(Dis | +) =$ posterior probability the probability of disease given positive\n",
    "\n",
    "\n",
    "$$\n",
    "P(Dis | +) = \\frac{P(Dis) • P(+ | Dis)}{P(+)}\n",
    "$$\n",
    "\n",
    "We need to first calculate the probability of positive\n",
    "$$ \n",
    "P(+) = P(+|D)*P(D)  +  P(+|NotD)*P(NotD) \n",
    "$$\\\n",
    "$$\n",
    " = 0.993 * 0.000025 + (1 - 0.9999) * (1 - 0.000025) \n",
    "$$\n",
    "$$\n",
    " = 0.00012482\n",
    "$$\n",
    "\n",
    "Now we can calculate the probability using Bayes rule\n",
    "\n",
    "$$\n",
    "P(Dis | +) = \\frac{P(Dis) * P(+ | Dis)}{P(+)}\n",
    "$$\n",
    "\n",
    "$$ \n",
    "= \\frac{0.000025 * 0.993}{0.00012482} \n",
    "$$\n",
    "$$\n",
    "=0.1988863 \n",
    "$$\n"
   ]
  }
 ],
 "metadata": {
  "kernelspec": {
   "display_name": "STA380",
   "language": "python",
   "name": "python3"
  },
  "language_info": {
   "codemirror_mode": {
    "name": "ipython",
    "version": 3
   },
   "file_extension": ".py",
   "mimetype": "text/x-python",
   "name": "python",
   "nbconvert_exporter": "python",
   "pygments_lexer": "ipython3",
   "version": "3.11.4"
  },
  "orig_nbformat": 4
 },
 "nbformat": 4,
 "nbformat_minor": 2
}
